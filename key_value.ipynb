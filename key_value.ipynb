{
  "nbformat": 4,
  "nbformat_minor": 0,
  "metadata": {
    "colab": {
      "provenance": []
    },
    "kernelspec": {
      "name": "python3",
      "display_name": "Python 3"
    },
    "language_info": {
      "name": "python"
    }
  },
  "cells": [
    {
      "cell_type": "code",
      "execution_count": 1,
      "metadata": {
        "colab": {
          "base_uri": "https://localhost:8080/"
        },
        "id": "l4S3ZRV7g9Ym",
        "outputId": "92d6a1e6-a449-4a02-8e89-6ca9fe9a3bdf"
      },
      "outputs": [
        {
          "output_type": "stream",
          "name": "stdout",
          "text": [
            "Reading package lists... Done\n",
            "Building dependency tree... Done\n",
            "Reading state information... Done\n",
            "The following additional packages will be installed:\n",
            "  tesseract-ocr-eng tesseract-ocr-osd\n",
            "The following NEW packages will be installed:\n",
            "  tesseract-ocr tesseract-ocr-eng tesseract-ocr-osd\n",
            "0 upgraded, 3 newly installed, 0 to remove and 35 not upgraded.\n",
            "Need to get 4,816 kB of archives.\n",
            "After this operation, 15.6 MB of additional disk space will be used.\n",
            "Get:1 http://archive.ubuntu.com/ubuntu jammy/universe amd64 tesseract-ocr-eng all 1:4.00~git30-7274cfa-1.1 [1,591 kB]\n",
            "Get:2 http://archive.ubuntu.com/ubuntu jammy/universe amd64 tesseract-ocr-osd all 1:4.00~git30-7274cfa-1.1 [2,990 kB]\n",
            "Get:3 http://archive.ubuntu.com/ubuntu jammy/universe amd64 tesseract-ocr amd64 4.1.1-2.1build1 [236 kB]\n",
            "Fetched 4,816 kB in 1s (4,968 kB/s)\n",
            "debconf: unable to initialize frontend: Dialog\n",
            "debconf: (No usable dialog-like program is installed, so the dialog based frontend cannot be used. at /usr/share/perl5/Debconf/FrontEnd/Dialog.pm line 78, <> line 3.)\n",
            "debconf: falling back to frontend: Readline\n",
            "debconf: unable to initialize frontend: Readline\n",
            "debconf: (This frontend requires a controlling tty.)\n",
            "debconf: falling back to frontend: Teletype\n",
            "dpkg-preconfigure: unable to re-open stdin: \n",
            "Selecting previously unselected package tesseract-ocr-eng.\n",
            "(Reading database ... 121749 files and directories currently installed.)\n",
            "Preparing to unpack .../tesseract-ocr-eng_1%3a4.00~git30-7274cfa-1.1_all.deb ...\n",
            "Unpacking tesseract-ocr-eng (1:4.00~git30-7274cfa-1.1) ...\n",
            "Selecting previously unselected package tesseract-ocr-osd.\n",
            "Preparing to unpack .../tesseract-ocr-osd_1%3a4.00~git30-7274cfa-1.1_all.deb ...\n",
            "Unpacking tesseract-ocr-osd (1:4.00~git30-7274cfa-1.1) ...\n",
            "Selecting previously unselected package tesseract-ocr.\n",
            "Preparing to unpack .../tesseract-ocr_4.1.1-2.1build1_amd64.deb ...\n",
            "Unpacking tesseract-ocr (4.1.1-2.1build1) ...\n",
            "Setting up tesseract-ocr-eng (1:4.00~git30-7274cfa-1.1) ...\n",
            "Setting up tesseract-ocr-osd (1:4.00~git30-7274cfa-1.1) ...\n",
            "Setting up tesseract-ocr (4.1.1-2.1build1) ...\n",
            "Processing triggers for man-db (2.10.2-1) ...\n"
          ]
        }
      ],
      "source": [
        "!sudo apt install tesseract-ocr"
      ]
    },
    {
      "cell_type": "code",
      "source": [
        "!pip install pdf2image"
      ],
      "metadata": {
        "colab": {
          "base_uri": "https://localhost:8080/"
        },
        "id": "l9VTr9X7hB0h",
        "outputId": "ef51e9c9-4811-4ae7-c5b6-8c3a27a8cd4a"
      },
      "execution_count": 2,
      "outputs": [
        {
          "output_type": "stream",
          "name": "stdout",
          "text": [
            "Collecting pdf2image\n",
            "  Downloading pdf2image-1.17.0-py3-none-any.whl (11 kB)\n",
            "Requirement already satisfied: pillow in /usr/local/lib/python3.10/dist-packages (from pdf2image) (9.4.0)\n",
            "Installing collected packages: pdf2image\n",
            "Successfully installed pdf2image-1.17.0\n"
          ]
        }
      ]
    },
    {
      "cell_type": "code",
      "source": [
        "!pip install Pillow"
      ],
      "metadata": {
        "colab": {
          "base_uri": "https://localhost:8080/"
        },
        "id": "O8EAamV6hDCZ",
        "outputId": "e3211e0b-0e85-4b3a-8642-74b579684717"
      },
      "execution_count": 3,
      "outputs": [
        {
          "output_type": "stream",
          "name": "stdout",
          "text": [
            "Requirement already satisfied: Pillow in /usr/local/lib/python3.10/dist-packages (9.4.0)\n"
          ]
        }
      ]
    },
    {
      "cell_type": "code",
      "source": [
        "pip install pytesseract"
      ],
      "metadata": {
        "colab": {
          "base_uri": "https://localhost:8080/"
        },
        "id": "tG4FaJGlhETI",
        "outputId": "2b04cfa9-3326-4d49-ed8e-7eba89862853"
      },
      "execution_count": 4,
      "outputs": [
        {
          "output_type": "stream",
          "name": "stdout",
          "text": [
            "Collecting pytesseract\n",
            "  Downloading pytesseract-0.3.10-py3-none-any.whl (14 kB)\n",
            "Requirement already satisfied: packaging>=21.3 in /usr/local/lib/python3.10/dist-packages (from pytesseract) (23.2)\n",
            "Requirement already satisfied: Pillow>=8.0.0 in /usr/local/lib/python3.10/dist-packages (from pytesseract) (9.4.0)\n",
            "Installing collected packages: pytesseract\n",
            "Successfully installed pytesseract-0.3.10\n"
          ]
        }
      ]
    },
    {
      "cell_type": "code",
      "source": [
        "!apt-get -qq install poppler-utils"
      ],
      "metadata": {
        "colab": {
          "base_uri": "https://localhost:8080/"
        },
        "id": "xlGXcsmjhFtb",
        "outputId": "2c8832ef-bba0-4d43-baf4-995aa08d4235"
      },
      "execution_count": 5,
      "outputs": [
        {
          "output_type": "stream",
          "name": "stdout",
          "text": [
            "Selecting previously unselected package poppler-utils.\n",
            "(Reading database ... \r(Reading database ... 5%\r(Reading database ... 10%\r(Reading database ... 15%\r(Reading database ... 20%\r(Reading database ... 25%\r(Reading database ... 30%\r(Reading database ... 35%\r(Reading database ... 40%\r(Reading database ... 45%\r(Reading database ... 50%\r(Reading database ... 55%\r(Reading database ... 60%\r(Reading database ... 65%\r(Reading database ... 70%\r(Reading database ... 75%\r(Reading database ... 80%\r(Reading database ... 85%\r(Reading database ... 90%\r(Reading database ... 95%\r(Reading database ... 100%\r(Reading database ... 121796 files and directories currently installed.)\n",
            "Preparing to unpack .../poppler-utils_22.02.0-2ubuntu0.3_amd64.deb ...\n",
            "Unpacking poppler-utils (22.02.0-2ubuntu0.3) ...\n",
            "Setting up poppler-utils (22.02.0-2ubuntu0.3) ...\n",
            "Processing triggers for man-db (2.10.2-1) ...\n"
          ]
        }
      ]
    },
    {
      "cell_type": "code",
      "source": [
        "import pytesseract\n",
        "import numpy as np\n",
        "from PIL import Image\n",
        "from pdf2image import convert_from_path\n",
        "import cv2\n",
        "import pandas as pd\n",
        "import re\n",
        "\n",
        "# Function to convert a PDF to images\n",
        "def pdf_to_images(pdf_path):\n",
        "    return convert_from_path(pdf_path)\n",
        "\n",
        "# Function to preprocess an image for OCR\n",
        "def preprocess_image_for_ocr(img):\n",
        "    gray = cv2.cvtColor(img, cv2.COLOR_BGR2GRAY)\n",
        "    gray = cv2.bilateralFilter(gray, 11, 17, 17)\n",
        "    thresh = cv2.adaptiveThreshold(gray, 255, cv2.ADAPTIVE_THRESH_MEAN_C, cv2.THRESH_BINARY, 11, 2)\n",
        "    return thresh\n",
        "\n",
        "# Function to extract key-value pairs and table data from text\n",
        "def extract_data_from_text(text):\n",
        "    key_value_pattern = r\"([A-Za-z ]+)\\s*[:]\\s*([A-Za-z0-9./ ]+)\"\n",
        "    table_pattern = r'(\\b[A-Z0-9\\.]+\\b)\\s+([A-Z ]+)\\s+(\\d+)\\s+(\\d+\\.?\\d*)\\s+(-?\\d+\\.?\\d*)\\s+(\\d+)'\n",
        "\n",
        "    key_value_matches = re.findall(key_value_pattern, text)\n",
        "    key_value_dict = {key.strip(): value.strip() for key, value in key_value_matches}\n",
        "    table_matches = re.findall(table_pattern, text)\n",
        "    table_dict = {match[0]: match[1:] for match in table_matches}\n",
        "\n",
        "    return {**key_value_dict, 'Table Data': table_dict}\n",
        "\n",
        "# Function to extract phone numbers from text\n",
        "def extract_phone_numbers(text):\n",
        "    phone_number_pattern = r\"(?:\\+\\d{1,3})?[ -]?\\(?\\d{3}\\)?[ -]?\\d{3}[ -]?\\d{4}\"\n",
        "    phone_matches = re.findall(phone_number_pattern, text)\n",
        "    return phone_matches\n",
        "\n",
        "# Function to extract full names from text\n",
        "def extract_full_names(text):\n",
        "    name_pattern = r\"\\b(Mr|Ms|Mrs)\\. [A-Z][a-z]+ [A-Z][a-z]+\\b\"\n",
        "    name_matches = re.findall(name_pattern, text)\n",
        "    return name_matches\n",
        "\n",
        "# Function to extract highlighted values from the original image\n",
        "def extract_highlighted_values(img):\n",
        "    lower_highlight = np.array([0, 200, 200])\n",
        "    upper_highlight = np.array([10, 255, 255])\n",
        "    hsv = cv2.cvtColor(img, cv2.COLOR_BGR2HSV)\n",
        "    mask = cv2.inRange(hsv, lower_highlight, upper_highlight)\n",
        "    highlighted_text = pytesseract.image_to_string(cv2.bitwise_and(img, img, mask=mask))\n",
        "\n",
        "    key_value_pairs = {}\n",
        "    for line in highlighted_text.splitlines():\n",
        "        if \"Discount\" in line:\n",
        "            key_value_pairs[\"Discount\"] = line.split()[-1]\n",
        "        elif \"Total CHF\" in line:\n",
        "            key_value_pairs[\"Total CHF\"] = line.split()[-1]\n",
        "\n",
        "    return key_value_pairs\n",
        "\n",
        "# Main processing function\n",
        "def process_pdf_and_extract_data(pdf_path):\n",
        "    images = pdf_to_images(pdf_path)\n",
        "    combined_data = {}\n",
        "\n",
        "    for img in images:\n",
        "        original_img = np.array(img)\n",
        "        preprocessed_img = preprocess_image_for_ocr(original_img)\n",
        "\n",
        "        # Extract phone numbers\n",
        "        phone_text = pytesseract.image_to_string(preprocessed_img, config='--oem 3 --psm 6 -c tessedit_char_whitelist=0123456789+()- ')\n",
        "        phone_numbers = extract_phone_numbers(phone_text)\n",
        "\n",
        "        # Extract names\n",
        "        name_text = pytesseract.image_to_string(preprocessed_img, config='--oem 3 --psm 6')\n",
        "        full_names = extract_full_names(name_text)\n",
        "\n",
        "        # Extract remaining data\n",
        "        text = pytesseract.image_to_string(preprocessed_img, config='--psm 6')\n",
        "        data_from_text = extract_data_from_text(text)\n",
        "        highlighted_values = extract_highlighted_values(original_img)\n",
        "\n",
        "        combined_data = {**combined_data, **data_from_text, **highlighted_values}\n",
        "        combined_data['Phone Numbers'] = phone_numbers\n",
        "        combined_data['Full Names'] = full_names\n",
        "\n",
        "    return combined_data\n",
        "\n",
        "# Path to the PDF file\n",
        "pdf_path = '/content/sample4.pdf'\n",
        "\n",
        "# Extract data\n",
        "extracted_data = process_pdf_and_extract_data(pdf_path)\n",
        "\n",
        "# Convert to DataFrame and save to CSV\n",
        "df = pd.DataFrame(list(extracted_data.items()), columns=['Key', 'Value'])\n",
        "df.to_csv('extracted_data4.csv', index=False)\n",
        "\n",
        "print(\"Data extraction complete, saved to 'extracted_data.csv'.\")\n"
      ],
      "metadata": {
        "colab": {
          "base_uri": "https://localhost:8080/"
        },
        "id": "cp4VRv89hJb3",
        "outputId": "e386c96c-e71d-4212-8b5f-036b6f79c7e5"
      },
      "execution_count": 6,
      "outputs": [
        {
          "output_type": "stream",
          "name": "stdout",
          "text": [
            "Data extraction complete, saved to 'extracted_data.csv'.\n"
          ]
        }
      ]
    },
    {
      "cell_type": "code",
      "source": [],
      "metadata": {
        "id": "E9wAPL2ThPBB"
      },
      "execution_count": null,
      "outputs": []
    }
  ]
}